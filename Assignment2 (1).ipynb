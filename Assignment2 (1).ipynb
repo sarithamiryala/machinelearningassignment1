{
 "cells": [
  {
   "cell_type": "markdown",
   "id": "78a47b53",
   "metadata": {},
   "source": [
    "1. What is the concept of human learning? Please give two examples."
   ]
  },
  {
   "cell_type": "markdown",
   "id": "5f82a6b3",
   "metadata": {},
   "source": [
    "Human learning is the process of acquiring Knowledge. When the information is processed in the mind we learn behaviour, ethics,skills etc..\n",
    "Human Learning is a continous process.\n",
    "\n",
    "example: Habits , personality, attitude"
   ]
  },
  {
   "cell_type": "markdown",
   "id": "0a58d549",
   "metadata": {},
   "source": [
    "2. What different forms of human learning are there? Are there any machine learning equivalents?"
   ]
  },
  {
   "cell_type": "markdown",
   "id": "e98234f1",
   "metadata": {},
   "source": [
    "The different human learning are observation learning, classical conditioning learning and operant learning.\n",
    "the different machine learning are\n",
    "supervised, unsupervised ,semi supervised and reinforment learning"
   ]
  },
  {
   "cell_type": "markdown",
   "id": "631c2fac",
   "metadata": {},
   "source": [
    "3. What is machine learning, and how does it work? What are the key responsibilities of machine learning?"
   ]
  },
  {
   "cell_type": "markdown",
   "id": "07db66f8",
   "metadata": {},
   "source": [
    "Machine Learning is the application of Artificial Intelligence(AI) in which a computer system can learns and adapt to new data without human intervention\n",
    "\n",
    "Machine Learning is a type of Artificial Intelligence(AI) that allows software applications to become more accurate at predicting outcomes without being explicitly programmed to do so.\n",
    "\n",
    "Responsibilities of ML\n",
    "Machine learning develpoer is an expert on using data to training models.The models are used to automate image segmentation,image classification, speech recognition , predictions and market forecasting etc..\n"
   ]
  },
  {
   "cell_type": "markdown",
   "id": "b71c5943",
   "metadata": {},
   "source": [
    "4. Define the terms &quot;penalty&quot; and &quot;reward&quot; in the context of reinforcement learning."
   ]
  },
  {
   "cell_type": "markdown",
   "id": "3c4562d2",
   "metadata": {},
   "source": [
    "A reinforcement learning algorithm, which may also be referred to as an agent, learns by interacting with its environment.\n",
    "The agent receives rewards by performing correctly and penalties for performing incorrectly.The agent learns without the intervention from a human by maximizing its rewards and minimizing its penalty."
   ]
  },
  {
   "cell_type": "markdown",
   "id": "b8d5ed47",
   "metadata": {},
   "source": [
    "5. Explain the term &quot;learning as a search&quot;?"
   ]
  },
  {
   "cell_type": "markdown",
   "id": "64783e52",
   "metadata": {},
   "source": [
    "learning can be viewed as a search through space of all sentences in a concept description language for a sentence that best describes the data"
   ]
  },
  {
   "cell_type": "markdown",
   "id": "b01b4b09",
   "metadata": {},
   "source": [
    "6. What are the various goals of machine learning? What is the relationship between these and human learning?\n"
   ]
  },
  {
   "cell_type": "markdown",
   "id": "5be78f7b",
   "metadata": {},
   "source": [
    "Goals of Machine Learning:\n",
    "    The goals of machine learning are to classify the data based on models which have been \n",
    "    developed and to make predictions for future outcomes based on these methods\n",
    "    \n",
    "    \n",
    "Machine learning "
   ]
  },
  {
   "cell_type": "markdown",
   "id": "588759b2",
   "metadata": {},
   "source": [
    "7. Illustrate the various elements of machine learning using a real-life illustration."
   ]
  },
  {
   "cell_type": "markdown",
   "id": "679a79bf",
   "metadata": {},
   "source": [
    "Image recognition is a well known and widespread example of machine learning.\n",
    "speech recognition\n",
    "medical diagnosis: in medical feild to dectect a patient is having a disease or not etc\n",
    "predictive analysis : prediction like share market prediction, weather forecasting etc..\n",
    "extraction : features extraction from images etc.."
   ]
  },
  {
   "cell_type": "markdown",
   "id": "32a7ae15",
   "metadata": {},
   "source": [
    "8. Provide an example of the abstraction method."
   ]
  },
  {
   "cell_type": "markdown",
   "id": "f1b980b7",
   "metadata": {},
   "source": [
    "the methods which have declaration but no body is called abstract method"
   ]
  },
  {
   "cell_type": "code",
   "execution_count": 2,
   "id": "2270310a",
   "metadata": {},
   "outputs": [],
   "source": [
    "from abc import ABC, abstractmethod\n",
    "class Computer:\n",
    "    # Abstract method\n",
    "    @abstractmethod\n",
    "    def process(self):\n",
    "        pass\n",
    "class Laptop(Computer):\n",
    "    pass"
   ]
  },
  {
   "cell_type": "markdown",
   "id": "0bf733bd",
   "metadata": {},
   "source": [
    "9. What is the concept of generalization? What function does it play in the machine learning process?"
   ]
  },
  {
   "cell_type": "markdown",
   "id": "b1632660",
   "metadata": {},
   "source": [
    "Generalization refers to model's ability to adapt properly to new, previously unseen data, drawn from same distribution as the one used to createthe model\n",
    "\n",
    "Generalization algorithms consitute the building blocks of automation process.if a model is trained  too much it may perform poor on test data it is called overfitting. Generalization prevents overfitting of the model"
   ]
  },
  {
   "cell_type": "markdown",
   "id": "ad9e18c0",
   "metadata": {},
   "source": [
    "10. What is classification, exactly? What are the main distinctions between classification and regression?"
   ]
  },
  {
   "cell_type": "markdown",
   "id": "09099e83",
   "metadata": {},
   "source": [
    "Classification is a supervised learning concept which basically categorize a set of data into classes.\n",
    "example of classification are\n",
    "face recogniction, document classification, handwriting recognition etc..\n",
    "\n",
    "difference between regression and classification \n",
    "regression is basically used to predict the continous values like age, salary, price etc..\n",
    "classification is used for prdict/classify True/False, Spam/Notspam, detected/not detected, male/female, etc.."
   ]
  },
  {
   "cell_type": "markdown",
   "id": "0b6bc2c4",
   "metadata": {},
   "source": [
    "11. What is regression, and how does it work? Give an example of a real-world problem that was solved using regression."
   ]
  },
  {
   "cell_type": "markdown",
   "id": "f48b47e8",
   "metadata": {},
   "source": [
    "Regression is a technique for investigating the relationship between independent variable or features and dependent variable or outcome.\n",
    "Example: Prediction the price of the house is one of the real time example for regression."
   ]
  },
  {
   "cell_type": "markdown",
   "id": "98a0bb73",
   "metadata": {},
   "source": [
    "12. Describe the clustering mechanism in detail."
   ]
  },
  {
   "cell_type": "markdown",
   "id": "0191768e",
   "metadata": {},
   "source": [
    "Clustering is an unsupervised machine learning.\n",
    "The task of clustering is to divide the population or data points into different groups."
   ]
  },
  {
   "cell_type": "markdown",
   "id": "dd919fe9",
   "metadata": {},
   "source": [
    "13. Make brief observations on two of the following topics:\n",
    "\n",
    "i. Machine learning algorithms are used\n",
    "\n",
    "ii. Studying under supervision\n",
    "\n",
    "iii. Studying without supervision\n",
    "\n",
    "iv. Reinforcement learning is a form of learning based on positive reinforcement."
   ]
  },
  {
   "cell_type": "markdown",
   "id": "ed27be27",
   "metadata": {},
   "source": [
    "Machine Learning is a type of Artificial Intelligence(AI) that allows software application become more accurate at predicting the output without the being explicity programmed to do so.\n",
    "Machine learning are two types supervised and unsupervised ML.\n",
    "supervised ML has regression and classification \n",
    "unsupervised Ml has clustering\n",
    "\n",
    "Reinforcement Learning algorithm may be referred to as an agent, learns by interacting with enviroment.\n",
    "The agents recieves \"rewards\" by performing correctly and \"pentalities\" for performing incorrectly.\n",
    "Agents learns without intervention of human by maximizing the rewards and minimizing the penalities."
   ]
  }
 ],
 "metadata": {
  "kernelspec": {
   "display_name": "Python 3 (ipykernel)",
   "language": "python",
   "name": "python3"
  },
  "language_info": {
   "codemirror_mode": {
    "name": "ipython",
    "version": 3
   },
   "file_extension": ".py",
   "mimetype": "text/x-python",
   "name": "python",
   "nbconvert_exporter": "python",
   "pygments_lexer": "ipython3",
   "version": "3.9.7"
  }
 },
 "nbformat": 4,
 "nbformat_minor": 5
}
